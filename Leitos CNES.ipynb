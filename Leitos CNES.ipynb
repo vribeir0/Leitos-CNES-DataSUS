{
 "cells": [
  {
   "cell_type": "code",
   "execution_count": 1,
   "id": "190a5d45-97d6-47cd-888e-9498f5b10265",
   "metadata": {},
   "outputs": [],
   "source": [
    "import pandas as pd\n",
    "import seaborn as sns\n",
    "import os\n",
    "\n",
    "DATA_DIR = 'C:\\\\Users\\\\vncs_\\\\LT\\\\csv'"
   ]
  },
  {
   "cell_type": "code",
   "execution_count": 2,
   "id": "f26ba921-06a5-42e0-8fc9-0cba2f2fe74d",
   "metadata": {},
   "outputs": [],
   "source": [
    "dfs = []\n",
    "for file in os.listdir(DATA_DIR):\n",
    "    filename = os.fsdecode(file)\n",
    "    #Apenas os dados do estado de Sâo Paulo\n",
    "    if filename.endswith(\".csv\") and filename.split(\".\")[0][2:-4] == 'SP':\n",
    "        df = pd.read_csv(os.path.join(DATA_DIR, filename), index_col=None)\n",
    "        dfs.append(df)\n",
    "df = pd.concat(dfs, axis=0, ignore_index=True)"
   ]
  },
  {
   "cell_type": "code",
   "execution_count": 3,
   "id": "aff78e3d-506f-4170-ac2d-c29be742c9b4",
   "metadata": {},
   "outputs": [],
   "source": [
    "keep_columns = ['CNES', 'CODLEITO','QT_SUS','COMPETEN'] \n",
    "drop_columns = [column for column in list(df.columns) if column not in keep_columns]\n",
    "df.drop(drop_columns, axis=1, inplace= True)\n",
    "df['COMPETEN'] = df['COMPETEN'].apply(str) \n",
    "df['Mes'] = df['COMPETEN'].str[-2:]\n",
    "df['Ano'] = df['COMPETEN'].str[:-2]\n"
   ]
  },
  {
   "cell_type": "markdown",
   "id": "2c663088-3347-45f0-b1ce-d312cfde9b88",
   "metadata": {},
   "source": [
    "Para definir quais as UTI's que estão em uso foi utilizado a documentação do CNES dos códigos dos leitos.<br>\n",
    "Os leitos 74,75,76 foram adicionados devido a [Portaria Nº 237, de 18 de Março de 2020](https://www.in.gov.br/web/dou/-/portaria-n-237-de-18-de-marco-de-2020-*-251908477)"
   ]
  },
  {
   "cell_type": "code",
   "execution_count": 4,
   "id": "46ad5706-d0c4-4764-9ce2-2107597fe52a",
   "metadata": {
    "tags": []
   },
   "outputs": [],
   "source": [
    "icu_beds_type = [51,52,74,75,76,85,86]\n",
    "df = df[df['CODLEITO'].isin(icu_beds_type)]\n",
    "df.reset_index(inplace=True)\n",
    "df =  df.pivot_table('QT_SUS',['CNES', 'COMPETEN','Mes','Ano'],'CODLEITO')\n",
    "df.reset_index(inplace=True)\n",
    "df.fillna(0)"
   ]
  },
  {
   "cell_type": "code",
   "execution_count": 8,
   "id": "17911055-99a8-4d38-8162-ca8d7e5a3fe9",
   "metadata": {},
   "outputs": [
    {
     "data": {
      "text/html": [
       "<div>\n",
       "<style scoped>\n",
       "    .dataframe tbody tr th:only-of-type {\n",
       "        vertical-align: middle;\n",
       "    }\n",
       "\n",
       "    .dataframe tbody tr th {\n",
       "        vertical-align: top;\n",
       "    }\n",
       "\n",
       "    .dataframe thead th {\n",
       "        text-align: right;\n",
       "    }\n",
       "</style>\n",
       "<table border=\"1\" class=\"dataframe\">\n",
       "  <thead>\n",
       "    <tr style=\"text-align: right;\">\n",
       "      <th>CODLEITO</th>\n",
       "      <th>CNES</th>\n",
       "      <th>51</th>\n",
       "      <th>52</th>\n",
       "      <th>74</th>\n",
       "      <th>75</th>\n",
       "      <th>76</th>\n",
       "      <th>85</th>\n",
       "      <th>86</th>\n",
       "    </tr>\n",
       "  </thead>\n",
       "  <tbody>\n",
       "    <tr>\n",
       "      <th>count</th>\n",
       "      <td>3.824800e+04</td>\n",
       "      <td>4851.000000</td>\n",
       "      <td>571.000000</td>\n",
       "      <td>14617.000000</td>\n",
       "      <td>20819.000000</td>\n",
       "      <td>4520.000000</td>\n",
       "      <td>1392.000000</td>\n",
       "      <td>455.000000</td>\n",
       "    </tr>\n",
       "    <tr>\n",
       "      <th>mean</th>\n",
       "      <td>3.153472e+06</td>\n",
       "      <td>12.392909</td>\n",
       "      <td>0.998249</td>\n",
       "      <td>0.684203</td>\n",
       "      <td>8.577069</td>\n",
       "      <td>19.531637</td>\n",
       "      <td>0.767241</td>\n",
       "      <td>2.676923</td>\n",
       "    </tr>\n",
       "    <tr>\n",
       "      <th>std</th>\n",
       "      <td>2.024255e+06</td>\n",
       "      <td>21.826151</td>\n",
       "      <td>3.239828</td>\n",
       "      <td>2.295558</td>\n",
       "      <td>9.290952</td>\n",
       "      <td>29.285394</td>\n",
       "      <td>2.157792</td>\n",
       "      <td>4.920403</td>\n",
       "    </tr>\n",
       "    <tr>\n",
       "      <th>min</th>\n",
       "      <td>8.028000e+03</td>\n",
       "      <td>0.000000</td>\n",
       "      <td>0.000000</td>\n",
       "      <td>0.000000</td>\n",
       "      <td>0.000000</td>\n",
       "      <td>0.000000</td>\n",
       "      <td>0.000000</td>\n",
       "      <td>0.000000</td>\n",
       "    </tr>\n",
       "    <tr>\n",
       "      <th>25%</th>\n",
       "      <td>2.079607e+06</td>\n",
       "      <td>0.000000</td>\n",
       "      <td>0.000000</td>\n",
       "      <td>0.000000</td>\n",
       "      <td>0.000000</td>\n",
       "      <td>0.000000</td>\n",
       "      <td>0.000000</td>\n",
       "      <td>0.000000</td>\n",
       "    </tr>\n",
       "    <tr>\n",
       "      <th>50%</th>\n",
       "      <td>2.084414e+06</td>\n",
       "      <td>5.000000</td>\n",
       "      <td>0.000000</td>\n",
       "      <td>0.000000</td>\n",
       "      <td>8.000000</td>\n",
       "      <td>10.000000</td>\n",
       "      <td>0.000000</td>\n",
       "      <td>0.000000</td>\n",
       "    </tr>\n",
       "    <tr>\n",
       "      <th>75%</th>\n",
       "      <td>3.101126e+06</td>\n",
       "      <td>15.000000</td>\n",
       "      <td>0.000000</td>\n",
       "      <td>0.000000</td>\n",
       "      <td>10.000000</td>\n",
       "      <td>22.000000</td>\n",
       "      <td>0.000000</td>\n",
       "      <td>4.000000</td>\n",
       "    </tr>\n",
       "    <tr>\n",
       "      <th>max</th>\n",
       "      <td>9.997032e+06</td>\n",
       "      <td>222.000000</td>\n",
       "      <td>20.000000</td>\n",
       "      <td>18.000000</td>\n",
       "      <td>85.000000</td>\n",
       "      <td>128.000000</td>\n",
       "      <td>14.000000</td>\n",
       "      <td>14.000000</td>\n",
       "    </tr>\n",
       "  </tbody>\n",
       "</table>\n",
       "</div>"
      ],
      "text/plain": [
       "CODLEITO          CNES           51          52            74            75  \\\n",
       "count     3.824800e+04  4851.000000  571.000000  14617.000000  20819.000000   \n",
       "mean      3.153472e+06    12.392909    0.998249      0.684203      8.577069   \n",
       "std       2.024255e+06    21.826151    3.239828      2.295558      9.290952   \n",
       "min       8.028000e+03     0.000000    0.000000      0.000000      0.000000   \n",
       "25%       2.079607e+06     0.000000    0.000000      0.000000      0.000000   \n",
       "50%       2.084414e+06     5.000000    0.000000      0.000000      8.000000   \n",
       "75%       3.101126e+06    15.000000    0.000000      0.000000     10.000000   \n",
       "max       9.997032e+06   222.000000   20.000000     18.000000     85.000000   \n",
       "\n",
       "CODLEITO           76           85          86  \n",
       "count     4520.000000  1392.000000  455.000000  \n",
       "mean        19.531637     0.767241    2.676923  \n",
       "std         29.285394     2.157792    4.920403  \n",
       "min          0.000000     0.000000    0.000000  \n",
       "25%          0.000000     0.000000    0.000000  \n",
       "50%         10.000000     0.000000    0.000000  \n",
       "75%         22.000000     0.000000    4.000000  \n",
       "max        128.000000    14.000000   14.000000  "
      ]
     },
     "execution_count": 8,
     "metadata": {},
     "output_type": "execute_result"
    }
   ],
   "source": [
    "df.describe()"
   ]
  },
  {
   "cell_type": "code",
   "execution_count": 9,
   "id": "e6e69976-54c9-45e2-beb2-c79506eb83c3",
   "metadata": {},
   "outputs": [
    {
     "data": {
      "text/plain": [
       "<seaborn.axisgrid.FacetGrid at 0x2116b762a30>"
      ]
     },
     "execution_count": 9,
     "metadata": {},
     "output_type": "execute_result"
    },
    {
     "data": {
      "image/png": "[encoded data removed]",
      "text/plain": [
       "<Figure size 1008x432 with 1 Axes>"
      ]
     },
     "metadata": {
      "needs_background": "light"
     },
     "output_type": "display_data"
    }
   ],
   "source": [
    "ax = sns.displot(df[75], kde=False)\n",
    "ax.figure.set_size_inches(14,6)\n",
    "ax"
   ]
  },
  {
   "cell_type": "code",
   "execution_count": null,
   "id": "25165059-9a0c-40ee-acad-06c2f1709e4e",
   "metadata": {},
   "outputs": [],
   "source": []
  }
 ],
 "metadata": {
  "kernelspec": {
   "display_name": "Python 3 (ipykernel)",
   "language": "python",
   "name": "python3"
  },
  "language_info": {
   "codemirror_mode": {
    "name": "ipython",
    "version": 3
   },
   "file_extension": ".py",
   "mimetype": "text/x-python",
   "name": "python",
   "nbconvert_exporter": "python",
   "pygments_lexer": "ipython3",
   "version": "3.9.6"
  }
 },
 "nbformat": 4,
 "nbformat_minor": 5
}
